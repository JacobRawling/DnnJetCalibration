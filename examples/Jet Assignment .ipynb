{
 "cells": [
  {
   "cell_type": "code",
   "execution_count": 19,
   "metadata": {},
   "outputs": [],
   "source": [
    "import keras\n",
    "from keras.models import Sequential, Model\n",
    "from keras.layers.core import Dense, Dropout, Activation\n",
    "from keras.layers import ELU, Input\n",
    "import keras.layers as kel\n",
    "from keras.optimizers import RMSprop\n",
    "from keras.utils import plot_model\n",
    "from keras import backend as K\n",
    "import numpy as np\n",
    "import pandas as pd\n",
    "from sklearn.cross_validation import train_test_split\n",
    "import tensorflow as tf"
   ]
  },
  {
   "cell_type": "code",
   "execution_count": 104,
   "metadata": {},
   "outputs": [
    {
     "name": "stdout",
     "output_type": "stream",
     "text": [
      "   Unnamed: 0  W_lep_eta  W_lep_m  W_lep_phi  W_lep_pt  floopy_poopy  \\\n",
      "0           0        0.0      0.0        0.0       0.0     -1.432401   \n",
      "1           1        0.0      0.0        0.0       0.0      2.300707   \n",
      "2           2        0.0      0.0        0.0       0.0      3.136069   \n",
      "3           3        0.0      0.0        0.0       0.0     -0.712848   \n",
      "4           4        0.0      0.0        0.0       0.0      2.558781   \n",
      "\n",
      "      jet_e_0  jet_e_1  jet_e_2  jet_e_3    ...     truth_had_top_pt  \\\n",
      "0  547.455750      0.0      0.0      0.0    ...           246.932047   \n",
      "1  260.904984      0.0      0.0      0.0    ...           116.891859   \n",
      "2  192.354422      0.0      0.0      0.0    ...           104.240453   \n",
      "3  214.426625      0.0      0.0      0.0    ...            24.783420   \n",
      "4  370.393562      0.0      0.0      0.0    ...           409.043125   \n",
      "\n",
      "   truth_lep_top_eta  truth_lep_top_m  truth_lep_top_phi  truth_lep_top_pt  \\\n",
      "0           1.751190       172.614844           1.878099        247.353859   \n",
      "1          -1.745807       172.017000          -0.632738        137.351547   \n",
      "2          -2.263536       172.508031           0.854127         78.232492   \n",
      "3           1.669423       172.965828           1.082186        219.343984   \n",
      "4          -0.004503       165.559703          -0.570936        390.033906   \n",
      "\n",
      "   truth_p0  truth_p1  truth_p2  truth_p3  truth_p4  \n",
      "0       1.0       4.0       3.0       2.0       0.0  \n",
      "1       2.0       4.0       3.0       1.0       0.0  \n",
      "2       4.0       3.0       2.0       1.0       0.0  \n",
      "3       4.0       3.0       2.0       1.0       0.0  \n",
      "4       0.0       4.0       3.0       2.0       1.0  \n",
      "\n",
      "[5 rows x 46 columns]\n"
     ]
    }
   ],
   "source": [
    "in_file = '/hepgpu3-data1/jrawling/deep_tops/csvs/ttbar.csv'\n",
    "df = pd.read_csv(in_file)\n",
    "print(df.head())\n",
    "df.columns\n",
    "# # Create the test and train data\n",
    "train_columns = [ u'W_lep_eta', u'W_lep_m', u'W_lep_phi', u'W_lep_pt',\n",
    "       u'jet_e_0', u'jet_e_1', u'jet_e_2', u'jet_e_3', u'jet_e_4',\n",
    "       u'jet_eta_0', u'jet_eta_1', u'jet_eta_2', u'jet_eta_3', u'jet_eta_4',\n",
    "       u'jet_isBjet_0', u'jet_isBjet_1', u'jet_isBjet_2', u'jet_isBjet_3',\n",
    "       u'jet_isBjet_4', u'jet_phi_0', u'jet_phi_1', u'jet_phi_2', u'jet_phi_3',\n",
    "       u'jet_phi_4', u'jet_pt_0', u'jet_pt_1', u'jet_pt_2', u'jet_pt_3',\n",
    "       u'jet_pt_4', u'met', u'n_jets']\n",
    "X = df[train_columns]\n",
    "\n",
    "# The truth information \n",
    "truth_columns = [ u'truth_had_top_eta',\n",
    "       u'truth_had_top_m', u'truth_had_top_phi', u'truth_had_top_pt',\n",
    "       u'truth_lep_top_eta', u'truth_lep_top_m', u'truth_lep_top_phi',\n",
    "       u'truth_lep_top_pt']\n",
    "truth_columns=['truth_p0',  'truth_p1',  'truth_p2',  'truth_p3',  'truth_p4',]\n",
    "Y = df[truth_columns] \n",
    "\n",
    "# # Split the data into test and train samples\n",
    "X_train, X_test, Y_train, Y_test = train_test_split(\n",
    "    X, Y, test_size=0.3, random_state=0)\n",
    "\n",
    "# # Padd the truth vectors\n",
    "# Z_train = Y_train.copy()\n",
    "# for i in xrange(5):\n",
    "#     Z_train[\"placeholder_%d\"%i] =  np.nan\n",
    "\n",
    "# Z_train = pd.concat([X_train.copy(), Z_train],axis=1)\n",
    "# Z_train = Z_train.fillna(0.0)    \n",
    "# len(Z_train.columns)"
   ]
  },
  {
   "cell_type": "code",
   "execution_count": 101,
   "metadata": {
    "scrolled": false
   },
   "outputs": [
    {
     "name": "stdout",
     "output_type": "stream",
     "text": [
      "_________________________________________________________________\n",
      "Layer (type)                 Output Shape              Param #   \n",
      "=================================================================\n",
      "input_43 (InputLayer)        (None, 31)                0         \n",
      "_________________________________________________________________\n",
      "dense_67 (Dense)             (None, 35)                1120      \n",
      "_________________________________________________________________\n",
      "dense_68 (Dense)             (None, 60)                2160      \n",
      "_________________________________________________________________\n",
      "dropout_46 (Dropout)         (None, 60)                0         \n",
      "_________________________________________________________________\n",
      "dense_69 (Dense)             (None, 5)                 305       \n",
      "=================================================================\n",
      "Total params: 3,585\n",
      "Trainable params: 3,585\n",
      "Non-trainable params: 0\n",
      "_________________________________________________________________\n",
      "None\n"
     ]
    }
   ],
   "source": [
    "output = \"\"\n",
    "def weighted_loss(y_true, y_pred):\n",
    "    # First construct the four vectors \n",
    "#     return K.mean( K.square(K.cast_to_floatx(K.argmax(y_pred[:,:5])) - K.cast_to_floatx(K.argmin(y_pred[:,:5]))),axis=-1 )\n",
    "#     return K.mean( y_pred[:,K.argmax(y_pred[:,:5]) ])#  - y_true[:,K.argmax(y_pred[:,:5]) ]  ,axis=-1 )\n",
    "    had_b_index = K.argmax( y_pred[0,:5] )\n",
    "    lep_b_index = K.argmax( y_pred[0,:5] )\n",
    "    g_index = K.argmax( y_pred[0,:5] )\n",
    "    w1_index = K.argmax( y_pred[0,:5] )\n",
    "    w2_index = K.argmax( y_pred[0,:5] )\n",
    "    K.argm\n",
    "    return K.mean( K.square(y_pred - y_true) * K.exp(-K.log(1.7) * (K.log(1. + K.exp((y_true - 3)/5 )))),axis=-1  )\n",
    "\n",
    "def feedforward_model(input_d=4, spectator_d=10):\n",
    "    \"\"\"\n",
    "    Creates a simple feed power NN that takes a four vector as an input and \n",
    "    returns a calibrated 4 vector \n",
    "    \"\"\"\n",
    "    \n",
    "    first_input = Input(shape=(input_d, ))\n",
    "    first_dense = Dense(35, activation='relu',)(first_input)\n",
    "    \n",
    "    first_dropout = Dropout(0.3)(first_dense)\n",
    "\n",
    "    second_dense = Dense(60, activation='relu',)(first_dense)\n",
    "    second_dropout = Dropout(0.3)(second_dense)\n",
    "    final_layer = Dense(5, activation='softmax',)(second_dropout)\n",
    "    \n",
    "    model = Model(inputs=first_input, outputs=final_layer)\n",
    "    if spectator_d is not None:\n",
    "        spectator_in = Input(shape=(spectator_d,))\n",
    "        merged_out = kel.concatenate([final_layer, spectator_in],  axis=-1)\n",
    "        model = Model(inputs=[first_input, spectator_in], outputs=merged_out)\n",
    "    return model \n",
    "\n",
    "model = feedforward_model(input_d=len(train_columns), \n",
    "                          spectator_d=None)\n",
    "#                           spectator_d=len(train_columns)+len(truth_columns))\n",
    "print(model.summary())\n",
    "\n",
    " # Compile model\n",
    "model.compile(loss='categorical_crossentropy',\n",
    "              optimizer='adam', metrics=['accuracy'])\n",
    "plot_model(model,to_file='demo.eps',show_shapes=True)\n"
   ]
  },
  {
   "cell_type": "code",
   "execution_count": null,
   "metadata": {
    "scrolled": false
   },
   "outputs": [
    {
     "name": "stdout",
     "output_type": "stream",
     "text": [
      "Epoch 1/50\n",
      "3046/3046 [==============================] - 1s 207us/step - loss: 133.3890 - acc: 0.1402\n",
      "Epoch 2/50\n",
      "3046/3046 [==============================] - 1s 199us/step - loss: 119.2509 - acc: 0.0076\n",
      "Epoch 3/50\n",
      "3046/3046 [==============================] - 1s 176us/step - loss: 118.5813 - acc: 0.0046\n",
      "Epoch 4/50\n",
      "3046/3046 [==============================] - 0s 160us/step - loss: 118.9818 - acc: 0.0108\n",
      "Epoch 5/50\n",
      "3046/3046 [==============================] - 0s 154us/step - loss: 119.1871 - acc: 0.0108\n",
      "Epoch 6/50\n",
      "3046/3046 [==============================] - 1s 174us/step - loss: 119.1660 - acc: 0.0148\n",
      "Epoch 7/50\n",
      "3046/3046 [==============================] - 1s 173us/step - loss: 118.9372 - acc: 0.0089\n",
      "Epoch 8/50\n",
      "3046/3046 [==============================] - 1s 195us/step - loss: 118.6368 - acc: 0.0026\n",
      "Epoch 9/50\n",
      "3046/3046 [==============================] - 1s 202us/step - loss: 118.4000 - acc: 0.0033\n",
      "Epoch 10/50\n",
      "3046/3046 [==============================] - 1s 193us/step - loss: 118.4748 - acc: 0.0016\n",
      "Epoch 11/50\n",
      "3046/3046 [==============================] - 1s 209us/step - loss: 118.2434 - acc: 9.8490e-04\n",
      "Epoch 12/50\n",
      "3046/3046 [==============================] - 1s 207us/step - loss: 118.2452 - acc: 0.0000e+00\n",
      "Epoch 13/50\n",
      "3046/3046 [==============================] - 1s 195us/step - loss: 118.1870 - acc: 0.0000e+00\n",
      "Epoch 14/50\n",
      "3046/3046 [==============================] - 1s 193us/step - loss: 118.1976 - acc: 3.2830e-04\n",
      "Epoch 15/50\n",
      "3046/3046 [==============================] - 1s 186us/step - loss: 118.2399 - acc: 0.0000e+00\n",
      "Epoch 16/50\n",
      "3046/3046 [==============================] - 1s 169us/step - loss: 118.1870 - acc: 3.2830e-04\n",
      "Epoch 17/50\n",
      "3046/3046 [==============================] - 1s 173us/step - loss: 118.1711 - acc: 3.2830e-04\n",
      "Epoch 18/50\n",
      "3046/3046 [==============================] - 0s 157us/step - loss: 118.3557 - acc: 0.0013\n",
      "Epoch 19/50\n",
      "3046/3046 [==============================] - 1s 169us/step - loss: 118.8485 - acc: 0.0072\n",
      "Epoch 20/50\n",
      "3046/3046 [==============================] - 1s 186us/step - loss: 118.6685 - acc: 0.0046\n",
      "Epoch 21/50\n",
      "3046/3046 [==============================] - 1s 203us/step - loss: 118.9225 - acc: 0.0039\n",
      "Epoch 22/50\n",
      "3046/3046 [==============================] - 1s 210us/step - loss: 118.8220 - acc: 0.0056\n",
      "Epoch 23/50\n",
      "3046/3046 [==============================] - 1s 193us/step - loss: 118.7268 - acc: 0.0053 0s - loss: 118.6579 - ac\n",
      "Epoch 24/50\n",
      "3046/3046 [==============================] - 1s 199us/step - loss: 121.0931 - acc: 0.0269\n",
      "Epoch 25/50\n",
      "3046/3046 [==============================] - 1s 179us/step - loss: 118.5134 - acc: 0.0069\n",
      "Epoch 26/50\n",
      "3046/3046 [==============================] - 1s 165us/step - loss: 118.4357 - acc: 9.8490e-04\n",
      "Epoch 27/50\n",
      "3046/3046 [==============================] - 0s 155us/step - loss: 118.3934 - acc: 0.0036\n",
      "Epoch 28/50\n",
      "3046/3046 [==============================] - 0s 153us/step - loss: 118.5521 - acc: 6.5660e-04\n",
      "Epoch 29/50\n",
      "3046/3046 [==============================] - 0s 156us/step - loss: 118.3511 - acc: 0.0036\n",
      "Epoch 30/50\n",
      "3046/3046 [==============================] - 0s 158us/step - loss: 118.2832 - acc: 3.2830e-04\n",
      "Epoch 31/50\n",
      "3046/3046 [==============================] - 1s 167us/step - loss: 118.1870 - acc: 0.0000e+00\n",
      "Epoch 32/50\n",
      "3046/3046 [==============================] - 1s 165us/step - loss: 118.2082 - acc: 0.0000e+00\n",
      "Epoch 33/50\n",
      "3046/3046 [==============================] - 0s 150us/step - loss: 118.1923 - acc: 0.0000e+00\n",
      "Epoch 34/50\n",
      "3046/3046 [==============================] - 1s 171us/step - loss: 118.1764 - acc: 3.2830e-04\n",
      "Epoch 35/50\n",
      "3046/3046 [==============================] - 1s 183us/step - loss: 118.2188 - acc: 0.0000e+00\n",
      "Epoch 36/50\n",
      "3046/3046 [==============================] - 1s 169us/step - loss: 118.1976 - acc: 0.0000e+00\n",
      "Epoch 37/50\n",
      "3046/3046 [==============================] - 1s 165us/step - loss: 118.2241 - acc: 0.0000e+00\n",
      "Epoch 38/50\n",
      "3046/3046 [==============================] - 1s 173us/step - loss: 118.1817 - acc: 0.0000e+00\n",
      "Epoch 39/50\n",
      "3046/3046 [==============================] - 0s 163us/step - loss: 118.1817 - acc: 0.0000e+00\n",
      "Epoch 40/50\n",
      "3046/3046 [==============================] - 0s 150us/step - loss: 118.2135 - acc: 0.0000e+00\n",
      "Epoch 41/50\n",
      "3046/3046 [==============================] - 0s 160us/step - loss: 118.1817 - acc: 0.0000e+00\n",
      "Epoch 42/50\n",
      "3046/3046 [==============================] - 0s 151us/step - loss: 118.1923 - acc: 0.0000e+00\n",
      "Epoch 43/50\n",
      "3046/3046 [==============================] - 0s 142us/step - loss: 118.1817 - acc: 3.2830e-04\n",
      "Epoch 44/50\n",
      "3046/3046 [==============================] - 0s 152us/step - loss: 118.1976 - acc: 0.0000e+00\n",
      "Epoch 45/50\n",
      "3046/3046 [==============================] - 0s 154us/step - loss: 118.1976 - acc: 3.2830e-04\n",
      "Epoch 46/50\n",
      " 672/3046 [=====>........................] - ETA: 0s - loss: 117.9361 - acc: 0.0000e+00"
     ]
    }
   ],
   "source": [
    "# Fit Model\n",
    "# model.fit([X_train, pd.concat([X_train.copy(), Y_train.copy()],axis=1)], \n",
    "#           Z_train,batch_size=1,\n",
    "#           epochs=1)\n",
    "# Fit Model\n",
    "model.fit(X_train, Y_train, epochs=50)\n",
    "%time"
   ]
  },
  {
   "cell_type": "code",
   "execution_count": 18,
   "metadata": {},
   "outputs": [
    {
     "name": "stdout",
     "output_type": "stream",
     "text": [
      "[-8. -8. -8. -8. -8. -8. -8. -8.]\n",
      "[-9.55998003e-01  1.71792484e+02  2.32600093e-01  5.00658437e+01\n",
      " -8.62488627e-01  1.70507000e+02 -9.08043161e-02  5.54837617e+01]\n"
     ]
    }
   ],
   "source": [
    "# evaluate the model\n",
    "scores = model.evaluate(X_test, Y_test)\n",
    "print(\"\\n%s: %.2f%%\" % (model.metrics_names[1], scores[1] * 100))\n",
    "\n",
    "# Save the processed variable\n",
    "Y_test_pred = model.predict(X_test)\n",
    "Y_train_pred = model.predict(X_train)"
   ]
  },
  {
   "cell_type": "code",
   "execution_count": 28,
   "metadata": {},
   "outputs": [
    {
     "data": {
      "text/plain": [
       "''"
      ]
     },
     "execution_count": 28,
     "metadata": {},
     "output_type": "execute_result"
    }
   ],
   "source": [
    "output"
   ]
  },
  {
   "cell_type": "code",
   "execution_count": 39,
   "metadata": {},
   "outputs": [
    {
     "ename": "TypeError",
     "evalue": "'int' object is not iterable",
     "output_type": "error",
     "traceback": [
      "\u001b[0;31m---------------------------------------------------------------------------\u001b[0m",
      "\u001b[0;31mTypeError\u001b[0m                                 Traceback (most recent call last)",
      "\u001b[0;32m<ipython-input-39-cdfb6ef11dce>\u001b[0m in \u001b[0;36m<module>\u001b[0;34m()\u001b[0m\n\u001b[0;32m----> 1\u001b[0;31m \u001b[0mkel\u001b[0m\u001b[0;34m.\u001b[0m\u001b[0mInput\u001b[0m\u001b[0;34m(\u001b[0m\u001b[0mshape\u001b[0m\u001b[0;34m=\u001b[0m\u001b[0;34m(\u001b[0m\u001b[0;36m32\u001b[0m\u001b[0;34m)\u001b[0m\u001b[0;34m)\u001b[0m\u001b[0;34m\u001b[0m\u001b[0m\n\u001b[0m",
      "\u001b[0;32m/hepgpu3-data1/jrawling/conda/lib/python2.7/site-packages/keras/engine/input_layer.pyc\u001b[0m in \u001b[0;36mInput\u001b[0;34m(shape, batch_shape, name, dtype, sparse, tensor)\u001b[0m\n\u001b[1;32m    169\u001b[0m                                    'dimension.')\n\u001b[1;32m    170\u001b[0m     \u001b[0;32mif\u001b[0m \u001b[0mshape\u001b[0m \u001b[0;32mis\u001b[0m \u001b[0;32mnot\u001b[0m \u001b[0mNone\u001b[0m \u001b[0;32mand\u001b[0m \u001b[0;32mnot\u001b[0m \u001b[0mbatch_shape\u001b[0m\u001b[0;34m:\u001b[0m\u001b[0;34m\u001b[0m\u001b[0m\n\u001b[0;32m--> 171\u001b[0;31m         \u001b[0mbatch_shape\u001b[0m \u001b[0;34m=\u001b[0m \u001b[0;34m(\u001b[0m\u001b[0mNone\u001b[0m\u001b[0;34m,\u001b[0m\u001b[0;34m)\u001b[0m \u001b[0;34m+\u001b[0m \u001b[0mtuple\u001b[0m\u001b[0;34m(\u001b[0m\u001b[0mshape\u001b[0m\u001b[0;34m)\u001b[0m\u001b[0;34m\u001b[0m\u001b[0m\n\u001b[0m\u001b[1;32m    172\u001b[0m     \u001b[0;32mif\u001b[0m \u001b[0;32mnot\u001b[0m \u001b[0mdtype\u001b[0m\u001b[0;34m:\u001b[0m\u001b[0;34m\u001b[0m\u001b[0m\n\u001b[1;32m    173\u001b[0m         \u001b[0mdtype\u001b[0m \u001b[0;34m=\u001b[0m \u001b[0mK\u001b[0m\u001b[0;34m.\u001b[0m\u001b[0mfloatx\u001b[0m\u001b[0;34m(\u001b[0m\u001b[0;34m)\u001b[0m\u001b[0;34m\u001b[0m\u001b[0m\n",
      "\u001b[0;31mTypeError\u001b[0m: 'int' object is not iterable"
     ]
    }
   ],
   "source": []
  },
  {
   "cell_type": "code",
   "execution_count": 36,
   "metadata": {},
   "outputs": [],
   "source": [
    "import keras.layers as kel"
   ]
  },
  {
   "cell_type": "code",
   "execution_count": 38,
   "metadata": {},
   "outputs": [
    {
     "ename": "TypeError",
     "evalue": "'int' object is not iterable",
     "output_type": "error",
     "traceback": [
      "\u001b[0;31m---------------------------------------------------------------------------\u001b[0m",
      "\u001b[0;31mTypeError\u001b[0m                                 Traceback (most recent call last)",
      "\u001b[0;32m<ipython-input-38-d2c2f1cc9abf>\u001b[0m in \u001b[0;36m<module>\u001b[0;34m()\u001b[0m\n\u001b[0;32m----> 1\u001b[0;31m \u001b[0mkel\u001b[0m\u001b[0;34m.\u001b[0m\u001b[0mInput\u001b[0m\u001b[0;34m(\u001b[0m\u001b[0mshape\u001b[0m\u001b[0;34m=\u001b[0m\u001b[0;36m32\u001b[0m\u001b[0;34m)\u001b[0m\u001b[0;34m\u001b[0m\u001b[0m\n\u001b[0m",
      "\u001b[0;32m/hepgpu3-data1/jrawling/conda/lib/python2.7/site-packages/keras/engine/input_layer.pyc\u001b[0m in \u001b[0;36mInput\u001b[0;34m(shape, batch_shape, name, dtype, sparse, tensor)\u001b[0m\n\u001b[1;32m    169\u001b[0m                                    'dimension.')\n\u001b[1;32m    170\u001b[0m     \u001b[0;32mif\u001b[0m \u001b[0mshape\u001b[0m \u001b[0;32mis\u001b[0m \u001b[0;32mnot\u001b[0m \u001b[0mNone\u001b[0m \u001b[0;32mand\u001b[0m \u001b[0;32mnot\u001b[0m \u001b[0mbatch_shape\u001b[0m\u001b[0;34m:\u001b[0m\u001b[0;34m\u001b[0m\u001b[0m\n\u001b[0;32m--> 171\u001b[0;31m         \u001b[0mbatch_shape\u001b[0m \u001b[0;34m=\u001b[0m \u001b[0;34m(\u001b[0m\u001b[0mNone\u001b[0m\u001b[0;34m,\u001b[0m\u001b[0;34m)\u001b[0m \u001b[0;34m+\u001b[0m \u001b[0mtuple\u001b[0m\u001b[0;34m(\u001b[0m\u001b[0mshape\u001b[0m\u001b[0;34m)\u001b[0m\u001b[0;34m\u001b[0m\u001b[0m\n\u001b[0m\u001b[1;32m    172\u001b[0m     \u001b[0;32mif\u001b[0m \u001b[0;32mnot\u001b[0m \u001b[0mdtype\u001b[0m\u001b[0;34m:\u001b[0m\u001b[0;34m\u001b[0m\u001b[0m\n\u001b[1;32m    173\u001b[0m         \u001b[0mdtype\u001b[0m \u001b[0;34m=\u001b[0m \u001b[0mK\u001b[0m\u001b[0;34m.\u001b[0m\u001b[0mfloatx\u001b[0m\u001b[0;34m(\u001b[0m\u001b[0;34m)\u001b[0m\u001b[0;34m\u001b[0m\u001b[0m\n",
      "\u001b[0;31mTypeError\u001b[0m: 'int' object is not iterable"
     ]
    }
   ],
   "source": []
  },
  {
   "cell_type": "code",
   "execution_count": 41,
   "metadata": {},
   "outputs": [],
   "source": []
  },
  {
   "cell_type": "code",
   "execution_count": 114,
   "metadata": {},
   "outputs": [],
   "source": [
    "# # Create the test and train data\n",
    "train_columns = [ u'W_lep_eta', u'W_lep_m', u'W_lep_phi', u'W_lep_pt',\n",
    "       u'jet_e_0', u'jet_e_1', u'jet_e_2', u'jet_e_3', u'jet_e_4',\n",
    "       u'jet_eta_0', u'jet_eta_1', u'jet_eta_2', u'jet_eta_3', u'jet_eta_4',\n",
    "       u'jet_isBjet_0', u'jet_isBjet_1', u'jet_isBjet_2', u'jet_isBjet_3',\n",
    "       u'jet_isBjet_4', u'jet_phi_0', u'jet_phi_1', u'jet_phi_2', u'jet_phi_3',\n",
    "       u'jet_phi_4', u'jet_pt_0', u'jet_pt_1', u'jet_pt_2', u'jet_pt_3',\n",
    "       u'jet_pt_4', u'met', u'n_jets', u'truth_had_top_eta']\n",
    "X = df[train_columns]\n",
    "\n",
    "# We need the original inputs as spectator variables, so append these to our inputs \n",
    "X_copy = X.copy()\n",
    "X = pd.merge(X, X_copy)"
   ]
  },
  {
   "cell_type": "code",
   "execution_count": 117,
   "metadata": {},
   "outputs": [
    {
     "data": {
      "text/plain": [
       "Index([u'W_lep_eta', u'W_lep_m', u'W_lep_phi', u'W_lep_pt', u'jet_e_0',\n",
       "       u'jet_e_1', u'jet_e_2', u'jet_e_3', u'jet_e_4', u'jet_eta_0',\n",
       "       u'jet_eta_1', u'jet_eta_2', u'jet_eta_3', u'jet_eta_4', u'jet_isBjet_0',\n",
       "       u'jet_isBjet_1', u'jet_isBjet_2', u'jet_isBjet_3', u'jet_isBjet_4',\n",
       "       u'jet_phi_0', u'jet_phi_1', u'jet_phi_2', u'jet_phi_3', u'jet_phi_4',\n",
       "       u'jet_pt_0', u'jet_pt_1', u'jet_pt_2', u'jet_pt_3', u'jet_pt_4', u'met',\n",
       "       u'n_jets', u'truth_had_top_eta'],\n",
       "      dtype='object')"
      ]
     },
     "execution_count": 117,
     "metadata": {},
     "output_type": "execute_result"
    }
   ],
   "source": [
    "X.columns"
   ]
  },
  {
   "cell_type": "code",
   "execution_count": 122,
   "metadata": {},
   "outputs": [],
   "source": [
    "import copy \n",
    "X_train = X_train + copy.copy(X_train) "
   ]
  },
  {
   "cell_type": "code",
   "execution_count": 124,
   "metadata": {},
   "outputs": [
    {
     "ename": "TypeError",
     "evalue": "'tuple' object is not callable",
     "output_type": "error",
     "traceback": [
      "\u001b[0;31m---------------------------------------------------------------------------\u001b[0m",
      "\u001b[0;31mTypeError\u001b[0m                                 Traceback (most recent call last)",
      "\u001b[0;32m<ipython-input-124-0f4d6b0aeb46>\u001b[0m in \u001b[0;36m<module>\u001b[0;34m()\u001b[0m\n\u001b[0;32m----> 1\u001b[0;31m \u001b[0mX_train\u001b[0m\u001b[0;34m.\u001b[0m\u001b[0mshape\u001b[0m\u001b[0;34m(\u001b[0m\u001b[0;34m)\u001b[0m\u001b[0;34m\u001b[0m\u001b[0m\n\u001b[0m",
      "\u001b[0;31mTypeError\u001b[0m: 'tuple' object is not callable"
     ]
    }
   ],
   "source": [
    "X_train.shape()"
   ]
  },
  {
   "cell_type": "code",
   "execution_count": 139,
   "metadata": {},
   "outputs": [],
   "source": [
    "foo =  pd.concat([X_train.copy(), Y_train.copy()], axis=1)"
   ]
  },
  {
   "cell_type": "code",
   "execution_count": 147,
   "metadata": {},
   "outputs": [
    {
     "data": {
      "text/plain": [
       "39"
      ]
     },
     "execution_count": 147,
     "metadata": {},
     "output_type": "execute_result"
    }
   ],
   "source": [
    "len(train_columns) + len(truth_columns)"
   ]
  },
  {
   "cell_type": "code",
   "execution_count": 32,
   "metadata": {},
   "outputs": [
    {
     "data": {
      "text/plain": [
       "(3047, 44)"
      ]
     },
     "execution_count": 32,
     "metadata": {},
     "output_type": "execute_result"
    }
   ],
   "source": [
    "Z_train.shape"
   ]
  },
  {
   "cell_type": "code",
   "execution_count": 80,
   "metadata": {},
   "outputs": [],
   "source": [
    "z_train_val = Z_train.values"
   ]
  },
  {
   "cell_type": "code",
   "execution_count": 56,
   "metadata": {},
   "outputs": [],
   "source": [
    "bar = np.argmax(z_train_val[:,:5],axis=1)\n",
    "foo = z_train_val[:,bar]"
   ]
  },
  {
   "cell_type": "code",
   "execution_count": 47,
   "metadata": {},
   "outputs": [
    {
     "data": {
      "text/plain": [
       "3047"
      ]
     },
     "execution_count": 47,
     "metadata": {},
     "output_type": "execute_result"
    }
   ],
   "source": [
    "len(foo)"
   ]
  },
  {
   "cell_type": "code",
   "execution_count": 58,
   "metadata": {},
   "outputs": [
    {
     "data": {
      "text/plain": [
       "(3047, 3047)"
      ]
     },
     "execution_count": 58,
     "metadata": {},
     "output_type": "execute_result"
    }
   ],
   "source": [
    "foo.shape"
   ]
  },
  {
   "cell_type": "code",
   "execution_count": 61,
   "metadata": {},
   "outputs": [
    {
     "data": {
      "text/plain": [
       "4"
      ]
     },
     "execution_count": 61,
     "metadata": {},
     "output_type": "execute_result"
    }
   ],
   "source": [
    "np.min(bar)"
   ]
  },
  {
   "cell_type": "code",
   "execution_count": 81,
   "metadata": {},
   "outputs": [],
   "source": [
    "foo = z_train_val[:,4]"
   ]
  },
  {
   "cell_type": "code",
   "execution_count": 63,
   "metadata": {},
   "outputs": [
    {
     "data": {
      "text/plain": [
       "array([289.8258125 , 392.149625  , 182.31004688, ..., 225.81175   ,\n",
       "       471.8049375 ,  82.58546094])"
      ]
     },
     "execution_count": 63,
     "metadata": {},
     "output_type": "execute_result"
    }
   ],
   "source": []
  },
  {
   "cell_type": "code",
   "execution_count": 86,
   "metadata": {},
   "outputs": [],
   "source": []
  },
  {
   "cell_type": "code",
   "execution_count": 98,
   "metadata": {},
   "outputs": [
    {
     "name": "stdout",
     "output_type": "stream",
     "text": [
      "4\n"
     ]
    },
    {
     "data": {
      "text/plain": [
       "289.8258125"
      ]
     },
     "execution_count": 98,
     "metadata": {},
     "output_type": "execute_result"
    }
   ],
   "source": [
    "e = z_train_val[0]\n",
    "bar =  np.argmax(e[:5])\n",
    "print(bar)\n",
    "e[bar]"
   ]
  },
  {
   "cell_type": "code",
   "execution_count": 96,
   "metadata": {},
   "outputs": [
    {
     "data": {
      "text/plain": [
       "4"
      ]
     },
     "execution_count": 96,
     "metadata": {},
     "output_type": "execute_result"
    }
   ],
   "source": []
  },
  {
   "cell_type": "code",
   "execution_count": null,
   "metadata": {},
   "outputs": [],
   "source": []
  }
 ],
 "metadata": {
  "kernelspec": {
   "display_name": "Python 2",
   "language": "python",
   "name": "python2"
  },
  "language_info": {
   "codemirror_mode": {
    "name": "ipython",
    "version": 2
   },
   "file_extension": ".py",
   "mimetype": "text/x-python",
   "name": "python",
   "nbconvert_exporter": "python",
   "pygments_lexer": "ipython2",
   "version": "2.7.15"
  }
 },
 "nbformat": 4,
 "nbformat_minor": 2
}
