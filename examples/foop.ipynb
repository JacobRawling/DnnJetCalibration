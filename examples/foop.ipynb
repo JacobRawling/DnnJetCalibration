{
 "cells": [
  {
   "cell_type": "code",
   "execution_count": null,
   "metadata": {},
   "outputs": [],
   "source": [
    "import numpy as np\n",
    "import keras.models as kem\n",
    "import keras.layers as kel\n",
    "import keras.callbacks as kec\n",
    "import sklearn.preprocessing as skprep\n",
    "\n",
    "X_train, max_features = {'Sequence': [[1, 2, 4, 5, 8, 10, 16], [1, 2, 1, 5, 5, 1, 11, 16, 7]]}, 16\n",
    "\n",
    "num_mem_units = 64\n",
    "size_batch = 1\n",
    "num_timesteps = 1\n",
    "num_features = 1\n",
    "num_targets = 1\n",
    "num_epochs = 1500\n",
    "\n",
    "model = kem.Sequential()\n",
    "model.add(kel.LSTM(num_mem_units, stateful=True,  batch_input_shape=(size_batch, num_timesteps, num_features),\n",
    "  return_sequences=True))\n",
    "model.add(kel.Dense(num_targets, activation='sigmoid'))\n",
    "model.summary()\n",
    "model.compile(loss='binary_crossentropy', optimizer='adam')\n",
    "\n",
    "range_act = (0, 1) # sigmoid\n",
    "range_features = np.array([0, max_features]).reshape(-1, 1)\n",
    "normalizer = skprep.MinMaxScaler(feature_range=range_act)\n",
    "normalizer.fit(range_features)\n",
    "\n",
    "reset_state = kec.LambdaCallback(on_epoch_end=lambda *_ : model.reset_states())\n",
    "\n",
    "# training\n",
    "for seq in X_train['Sequence']:\n",
    "    X = seq[:-1]\n",
    "    y = seq[1:] # predict next element\n",
    "    X_norm = normalizer.transform(np.array(X).reshape(-1, 1)).reshape(-1, num_timesteps, num_features)\n",
    "    y_norm = normalizer.transform(np.array(y).reshape(-1, 1)).reshape(-1, num_timesteps, num_targets)\n",
    "    model.fit(X_norm, y_norm, epochs=num_epochs, batch_size=size_batch, shuffle=False,\n",
    "      callbacks=[reset_state])\n",
    "\n",
    "# prediction\n",
    "for seq in X_train['Sequence']:\n",
    "    model.reset_states() \n",
    "    for istep in range(len(seq)-1): # input up to not incl last\n",
    "        val = seq[istep]\n",
    "        X = np.array([val]).reshape(-1, 1)\n",
    "        X_norm = normalizer.transform(X).reshape(-1, num_timesteps, num_features)\n",
    "        y_norm = model.predict(X_norm)\n",
    "    yhat = int(normalizer.inverse_transform(y_norm[0])[0, 0])\n",
    "    y = seq[-1] # last\n",
    "    put = '{0} predicts {1:d}, expecting {2:d}'.format(', '.join(str(val) for val in seq[:-1]), yhat, y)\n",
    "    print(put)"
   ]
  }
 ],
 "metadata": {
  "kernelspec": {
   "display_name": "Python 2",
   "language": "python",
   "name": "python2"
  },
  "language_info": {
   "codemirror_mode": {
    "name": "ipython",
    "version": 2
   },
   "file_extension": ".py",
   "mimetype": "text/x-python",
   "name": "python",
   "nbconvert_exporter": "python",
   "pygments_lexer": "ipython2",
   "version": "2.7.15"
  }
 },
 "nbformat": 4,
 "nbformat_minor": 2
}
